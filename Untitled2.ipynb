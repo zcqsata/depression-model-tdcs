{
 "cells": [
  {
   "cell_type": "code",
   "execution_count": 1,
   "metadata": {},
   "outputs": [],
   "source": [
    "from brian import *\n",
    "from numpy.fft import rfft,irfft\n",
    "from scipy.io import savemat\n",
    "import numpy\n",
    "\n",
    "import matplotlib\n",
    "import matplotlib.pyplot as plt\n",
    "import numpy as np\n",
    "from brian.tools.datamanager import *\n",
    "from brian.tools.taskfarm import *\n",
    "from scipy import stats\n",
    "from scipy import signal\n",
    "from scipy.stats import mannwhitneyu\n",
    "from pandas import DataFrame\n",
    "import matplotlib.pyplot as plt\n",
    "from sklearn.cluster import KMeans\n",
    "from sklearn.metrics import silhouette_score"
   ]
  },
  {
   "cell_type": "code",
   "execution_count": 2,
   "metadata": {},
   "outputs": [
    {
     "name": "stdout",
     "output_type": "stream",
     "text": [
      "Populating the interactive namespace from numpy and matplotlib\n"
     ]
    },
    {
     "name": "stderr",
     "output_type": "stream",
     "text": [
      "/home/anna/Desktop/Depression_suplm/depression_env/local/lib/python2.7/site-packages/IPython/core/magics/pylab.py:161: UserWarning: pylab import has clobbered these variables: ['power', 'sinh', 'tan', 'arccos', 'cosh', 'sin', 'plotting', 'deprecated', 'arctanh', 'random', 'gray', 'cos', 'arccosh', 'cm', 'arcsin', 'tanh', 'sqrt', 'fft', 'arcsinh', 'log', 'linalg', 'info', 'arctan', 'exp']\n",
      "`%matplotlib` prevents importing * from pylab and numpy\n",
      "  \"\\n`%matplotlib` prevents importing * from pylab and numpy\"\n"
     ]
    }
   ],
   "source": [
    "%config InlineBackend.figure_format = 'retina'\n",
    "%pylab inline\n",
    "import scipy as sp\n",
    "import numpy as np\n",
    "import pandas as pd\n",
    "import matplotlib.pyplot as plt\n",
    "import os\n",
    "import scipy.io\n",
    "import scipy.signal\n",
    "from scipy.signal import butter, filtfilt, hilbert"
   ]
  },
  {
   "cell_type": "code",
   "execution_count": 4,
   "metadata": {},
   "outputs": [],
   "source": [
    "dataman = DataManager('healthy_part1_02ms_fs')\n",
    "tdcs_current,Md_rate_healthy_1_02fs,Mv_rate_healthy_1_02fs= zip(*dataman.values())\n",
    "dataman = DataManager('healthy_part2_02ms_fs')\n",
    "tdcs_current,Md_rate_healthy_2_02fs,Mv_rate_healthy_2_02fs= zip(*dataman.values())\n",
    "\n",
    "Md_total_rate_healthy_prior_02ms_fs =np.vstack((Md_rate_healthy_1_02fs,Md_rate_healthy_2_02fs))\n",
    "Mv_total_rate_healthy_prior_02ms_fs = np.vstack((Mv_rate_healthy_1_02fs,Mv_rate_healthy_2_02fs))"
   ]
  },
  {
   "cell_type": "code",
   "execution_count": 5,
   "metadata": {},
   "outputs": [],
   "source": [
    "dataman1 = DataManager('Mild_prior_part1_02ms_fs')\n",
    "tdcs_current,Md_rate_mild_prior_1_02fs,Mv_rate_mild_prior_1_02fs= zip(*dataman1.values())\n",
    "\n",
    "dataman2 = DataManager('Mild_prior_part2_02ms_fs')\n",
    "tdcs_current,Md_rate_mild_prior_2_02fs,Mv_rate_mild_prior_2_02fs= zip(*dataman2.values())\n",
    "\n",
    "Md_total_rate_mild_prior_02fs = np.vstack((Md_rate_mild_prior_2_02fs,Md_rate_mild_prior_1_02fs))\n",
    "Mv_total_rate_mild_prior_02fs = np.vstack((Mv_rate_mild_prior_2_02fs,Mv_rate_mild_prior_1_02fs))"
   ]
  },
  {
   "cell_type": "code",
   "execution_count": 6,
   "metadata": {},
   "outputs": [],
   "source": [
    "Mv_mean_rate_mild_prior = np.mean(Mv_total_rate_mild_prior_02fs,axis = 0)\n",
    "Mv_mean_rate_healthy_prior = np.mean(Mv_total_rate_healthy_prior_02ms_fs,axis = 0)"
   ]
  },
  {
   "cell_type": "code",
   "execution_count": 3,
   "metadata": {},
   "outputs": [],
   "source": [
    "#filtering functions\n",
    "def butter_bandpass(lowcut, highcut, fs, order=4):\n",
    "    #lowcut is the lower bound of the frequency that we want to isolate\n",
    "    #hicut is the upper bound of the frequency that we want to isolate\n",
    "    #fs is the sampling rate of our data\n",
    "    nyq = 0.5 * fs #nyquist frequency - see http://www.dspguide.com/ if you want more info\n",
    "    low = float(lowcut) / nyq\n",
    "    high = float(highcut) / nyq\n",
    "    b, a = butter(order, [low, high], btype='band')\n",
    "    return b, a\n",
    "\n",
    "def butter_bandpass_filter(mydata, lowcut, highcut, fs, order=4):\n",
    "    b, a = butter_bandpass(lowcut, highcut, fs, order=order)\n",
    "    y = filtfilt(b, a, mydata)\n",
    "    return y"
   ]
  },
  {
   "cell_type": "code",
   "execution_count": null,
   "metadata": {},
   "outputs": [],
   "source": [
    "#parameters\n",
    "phase_providing_band = [12,30]; #4-8 Hz band\n",
    "amplitude_providing_band = [80, 125]; #80-125 Hz band\n",
    "srate = 2000\n",
    "\n",
    "#calculating phase of theta\n",
    "phase_data = butter_bandpass_filter(Mv_mean_rate_healthy_prior, phase_providing_band[0], phase_providing_band[1], round(srate));\n",
    "phase_data = hilbert(phase_data);\n",
    "phase_data = angle(phase_data);\n",
    "\n",
    "#calculating amplitude envelope of high gamma\n",
    "amp_data = butter_bandpass_filter(Mv_mean_rate_healthy_prior, amplitude_providing_band[0], amplitude_providing_band[1], round(srate));\n",
    "amp_data = hilbert(amp_data);\n",
    "amp_data = abs(amp_data);\n",
    "\n",
    "#let's look at a small chunk of our data\n",
    "figure(figsize = (15,6));\n",
    "plt.plot((Mv_mean_rate_healthy_prior[1:int(srate)*2]-mean(Mv_mean_rate_healthy_prior[1:int(srate)*2]))/std(Mv_mean_rate_healthy_prior[1:int(srate)*2]),label= 'Raw Data'); #normalized raw data\n",
    "plt.plot(phase_data[1:int(srate)*2],label= 'Phase of Theta');\n",
    "plt.plot(amp_data[1:int(srate)*2],label= 'Amplitude of High Gamma'); \n",
    "xlabel('Two Seconds of Theta Phase and High Gamma Amplitude')\n",
    "legend(loc='center left', bbox_to_anchor=(1, 0.5))"
   ]
  }
 ],
 "metadata": {
  "kernelspec": {
   "display_name": "depression_env",
   "language": "python",
   "name": "depression_env"
  },
  "language_info": {
   "codemirror_mode": {
    "name": "ipython",
    "version": 2
   },
   "file_extension": ".py",
   "mimetype": "text/x-python",
   "name": "python",
   "nbconvert_exporter": "python",
   "pygments_lexer": "ipython2",
   "version": "2.7.16"
  }
 },
 "nbformat": 4,
 "nbformat_minor": 2
}
