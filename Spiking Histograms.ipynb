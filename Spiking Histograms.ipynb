{
 "cells": [
  {
   "cell_type": "code",
   "execution_count": null,
   "metadata": {},
   "outputs": [],
   "source": [
    "import brian \n",
    "import numpy as np\n",
    "import csv\n",
    "import numpy as np\n",
    "import matplotlib.mlab as mlab\n",
    "import matplotlib.pyplot as plt"
   ]
  },
  {
   "cell_type": "code",
   "execution_count": null,
   "metadata": {},
   "outputs": [],
   "source": [
    "#Read the excitatory spikes from the file\n",
    "neuron_number = []\n",
    "spiking_times = []\n",
    "f1 = open('spikes_E_vACC.dat')\n",
    "for row in csv.reader(f1):\n",
    "    neuron_number.append(int(row[0]))\n",
    "    spiking_times.append(float(row[1]))\n",
    "    \n",
    "\n",
    "#del neuron_number[0:3323]\n",
    "#del spiking_times[0:3323]"
   ]
  },
  {
   "cell_type": "code",
   "execution_count": null,
   "metadata": {},
   "outputs": [],
   "source": [
    "#Read inhibitory spikes from the file \n",
    "f2 = open('spikes_I_vACC.dat')\n",
    "for row in csv.reader(f2):\n",
    "    neuron_number.append(int(row[0]))\n",
    "    spiking_times.append(float(row[1]))"
   ]
  },
  {
   "cell_type": "code",
   "execution_count": null,
   "metadata": {},
   "outputs": [],
   "source": [
    "neuron_number_trial1 = []\n",
    "spiking_times_trial1 = []\n",
    "f1 = open('spikes_E_vACC_trial1.dat')\n",
    "for row in csv.reader(f1):\n",
    "    neuron_number_trial1.append(int(row[0]))\n",
    "    spiking_times_trial1.append(float(row[1]))\n",
    "    \n",
    "    \n",
    "    \n",
    "neuron_number_trial2 = []\n",
    "spiking_times_trial2 = []\n",
    "f2 = open('spikes_E_vACC_trial2.dat')\n",
    "for row in csv.reader(f2):\n",
    "    neuron_number_trial2.append(int(row[0]))\n",
    "    spiking_times_trial2.append(float(row[1]))\n",
    "    \n",
    "    \n",
    "neuron_number_trial3 = []\n",
    "spiking_times_trial3 = []\n",
    "f3 = open('spikes_E_vACC_trial3.dat')\n",
    "for row in csv.reader(f3):\n",
    "    neuron_number_trial3.append(int(row[0]))\n",
    "    spiking_times_trial3.append(float(row[1]))\n",
    "    \n",
    "neuron_number_trial4 = []\n",
    "spiking_times_trial4 = []\n",
    "f4 = open('spikes_E_vACC_trial4.dat')\n",
    "for row in csv.reader(f4):\n",
    "    neuron_number_trial4.append(int(row[0]))\n",
    "    spiking_times_trial4.append(float(row[1]))\n",
    "\n",
    "neuron_number_trial5 = []\n",
    "spiking_times_trial5 = []\n",
    "f5 = open('spikes_E_vACC_trial5.dat')\n",
    "for row in csv.reader(f5):\n",
    "    neuron_number_trial5.append(int(row[0]))\n",
    "    spiking_times_trial5.append(float(row[1]))\n",
    "\n",
    "\n",
    "\n",
    "\n",
    "\n",
    "hist1, bin_edges1 = np.histogram(spiking_times_trial1,30)\n",
    "hist2, bin_edges2 = np.histogram(spiking_times_trial2,30)\n",
    "hist3, bin_edges3 = np.histogram(spiking_times_trial3,30)\n",
    "hist4, bin_edges4 = np.histogram(spiking_times_trial4,30)\n",
    "hist5, bin_edges5 = np.histogram(spiking_times_trial5,30)\n",
    "\n",
    "n_neurons = 80\n",
    "average_spiking_trial1 = []\n",
    "average_spiking_trial2 = []\n",
    "average_spiking_trial3 = []\n",
    "average_spiking_trial4 = []\n",
    "average_spiking_trial5 = []\n",
    "total_spiking = []\n",
    "\n",
    "\n",
    "simulation_time = 30\n",
    "x = np.arange(0,simulation_time,1) \n",
    "\n",
    "for i in range(len(hist)):\n",
    "    average_spiking_trial1.append(float(hist1[i])/n_neurons)\n",
    "    \n",
    "    \n",
    "for i in range(len(hist)):\n",
    "    average_spiking_trial2.append(float(hist2[i])/n_neurons)\n",
    "    \n",
    "for i in range(len(hist)):\n",
    "    average_spiking_trial3.append(float(hist3[i])/n_neurons)\n",
    "    \n",
    "for i in range(len(hist)):\n",
    "    average_spiking_trial4.append(float(hist4[i])/n_neurons)\n",
    "    \n",
    "for i in range(len(hist)):\n",
    "    average_spiking_trial5.append(float(hist5[i])/n_neurons)\n",
    "    \n",
    "    \n",
    "#from operator import add\n",
    "#list( map(add, list1, list2) )\n",
    "total_spiking = [sum(i) for i in zip(average_spiking_trial1,average_spiking_trial2, average_spiking_trial3,average_spiking_trial4,average_spiking_trial5)] \n",
    "\n",
    "\n",
    "for i in range(len(total_spiking)):\n",
    "    total_spiking[i] = total_spiking[i]/5\n"
   ]
  },
  {
   "cell_type": "code",
   "execution_count": null,
   "metadata": {},
   "outputs": [],
   "source": [
    "fig, ax = plt.subplots(figsize=(10, 10))\n",
    "ax.set_xlabel('Time s')\n",
    "ax.set_ylabel('Firing rate sp/s')\n",
    "ax.set_title(r' 80 neuons of vACC spiking averaged 5 trials')\n",
    "ax.set_ylim([0, 60])\n",
    "plt.vlines(4.5,0,50,linestyle = 'dashed')\n",
    "plt.vlines(9.5,0,50,linestyle = 'dashed')\n",
    "plt.vlines(14.5,0,50,linestyle = 'dashed')\n",
    "\n",
    "plt.hist(bin_edges[:-1], bin_edges, weights=total_spiking) \n",
    "\n",
    "plt.show()"
   ]
  },
  {
   "cell_type": "code",
   "execution_count": null,
   "metadata": {},
   "outputs": [],
   "source": [
    "fig.savefig('averaged spiking across 5 trials 80 neurons.png')"
   ]
  },
  {
   "cell_type": "code",
   "execution_count": null,
   "metadata": {},
   "outputs": [],
   "source": [
    "#For the small population and individual neurons \n",
    "import random\n",
    "neuron_indexes_gen = []\n",
    "\n",
    "for x in range(4):\n",
    "    neuron_indexes_gen.append(random.randint(0, 800))\n",
    "print(neuron_indexes_gen)"
   ]
  },
  {
   "cell_type": "code",
   "execution_count": null,
   "metadata": {},
   "outputs": [],
   "source": [
    "spiking_times_ind0 = []\n",
    "spiking_times_ind1 = []\n",
    "spiking_times_ind2 = []\n",
    "spiking_times_ind3 = []\n",
    "\n",
    "\n",
    "\n",
    "for i in range(len(neuron_number)):\n",
    "    if neuron_number[i] == neuron_indexes_gen[0]:\n",
    "        spiking_times_ind0.append(i)\n",
    "        \n",
    "    if neuron_number[i] == neuron_indexes_gen[1]:\n",
    "        spiking_times_ind1.append(i)\n",
    "        \n",
    "    if neuron_number[i] == neuron_indexes_gen[2]:\n",
    "        spiking_times_ind2.append(i)\n",
    "        \n",
    "    if neuron_number[i] == neuron_indexes_gen[3]:\n",
    "        spiking_times_ind3.append(i)\n",
    "        \n",
    "        \n"
   ]
  },
  {
   "cell_type": "code",
   "execution_count": null,
   "metadata": {},
   "outputs": [],
   "source": [
    "spike_times0 = []\n",
    "spike_times1 = []\n",
    "spike_times2 = []\n",
    "spike_times3 = []\n",
    "\n",
    "\n",
    "\n",
    "for i in range(len(spiking_times_ind0)):\n",
    "    spike_times0.append(spiking_times[spiking_times_ind0[i]])\n",
    "    \n",
    "for i in range(len(spiking_times_ind1)):\n",
    "    spike_times1.append(spiking_times[spiking_times_ind1[i]])\n",
    "    \n",
    "for i in range(len(spiking_times_ind2)):\n",
    "    spike_times2.append(spiking_times[spiking_times_ind2[i]])\n",
    "    \n",
    "for i in range(len(spiking_times_ind3)):\n",
    "    spike_times3.append(spiking_times[spiking_times_ind3[i]])\n",
    "    \n",
    "small_population_times = spike_times0 + spike_times1 +spike_times2 +spike_times3"
   ]
  },
  {
   "cell_type": "code",
   "execution_count": null,
   "metadata": {},
   "outputs": [],
   "source": [
    "#Raster plots of individual neurons \n",
    "fig5, ax5 = plt.subplots(figsize=(10, 10))\n",
    "plt.eventplot(spike_times0)\n",
    "plt.eventplot(spike_times1)\n",
    "plt.eventplot(spike_times2)\n",
    "plt.eventplot(spike_times3)\n",
    "plt.vlines(4.5,0,2,linestyle = 'dashed')\n",
    "plt.vlines(9.5,0,2,linestyle = 'dashed')\n",
    "plt.vlines(14.5,0,2,linestyle = 'dashed')\n",
    "ax5.set_title(r' 1 spiking neurons')"
   ]
  },
  {
   "cell_type": "code",
   "execution_count": null,
   "metadata": {},
   "outputs": [],
   "source": [
    "#Plot of the spiking of the population\n",
    "fig, ax = plt.subplots(figsize=(20, 10))\n",
    "\n",
    "ax.set_xlabel('Time s')\n",
    "ax.set_ylabel('Firing rate sp/s')\n",
    "ax.set_title(r' vACC spiking')\n",
    "ax.hist(spiking_times, 30)\n",
    "ax.set_ylim([0, 1000])\n",
    "plt.vlines(4.5,0,50,linestyle = 'dashed')\n",
    "plt.vlines(9.5,0,50,linestyle = 'dashed')\n",
    "plt.vlines(14.5,0,50,linestyle = 'dashed')\n",
    "plt.show()"
   ]
  },
  {
   "cell_type": "code",
   "execution_count": null,
   "metadata": {},
   "outputs": [],
   "source": [
    "\n",
    "hist, bin_edges = np.histogram(spiking_times,30)\n",
    "\n",
    "n_neurons = 80\n",
    "average_spiking = []\n",
    "simulation_time = 30\n",
    "x = np.arange(0,simulation_time,1) \n",
    "\n",
    "for i in range(len(hist)):\n",
    "    average_spiking.append(float(hist[i])/n_neurons)\n",
    "\n",
    "plt.hist(bin_edges[:-1], bin_edges, weights=average_spiking)        "
   ]
  },
  {
   "cell_type": "code",
   "execution_count": null,
   "metadata": {},
   "outputs": [],
   "source": []
  },
  {
   "cell_type": "code",
   "execution_count": null,
   "metadata": {},
   "outputs": [],
   "source": []
  },
  {
   "cell_type": "code",
   "execution_count": null,
   "metadata": {},
   "outputs": [],
   "source": [
    "print(small_population_times)"
   ]
  },
  {
   "cell_type": "code",
   "execution_count": null,
   "metadata": {},
   "outputs": [],
   "source": []
  },
  {
   "cell_type": "code",
   "execution_count": null,
   "metadata": {},
   "outputs": [],
   "source": [
    " \n",
    "fig, ax = plt.subplots(figsize=(20, 10))\n",
    "\n",
    "ax.set_xlabel('Time s')\n",
    "ax.set_ylabel('Firing rate sp/s')\n",
    "ax.set_title(r' vACC spiking')\n",
    "ax.hist(spiking_times, 30)\n",
    "ax.set_ylim([0, 1000])\n",
    "plt.vlines(4.5,0,50,linestyle = 'dashed')\n",
    "plt.vlines(9.5,0,50,linestyle = 'dashed')\n",
    "plt.vlines(14.5,0,50,linestyle = 'dashed')\n",
    "plt.show()"
   ]
  },
  {
   "cell_type": "code",
   "execution_count": null,
   "metadata": {},
   "outputs": [],
   "source": [
    "fig.savefig('vACC_spiking_whole population.png')\n",
    "\n"
   ]
  },
  {
   "cell_type": "code",
   "execution_count": null,
   "metadata": {},
   "outputs": [],
   "source": [
    "\n",
    "\n"
   ]
  },
  {
   "cell_type": "code",
   "execution_count": null,
   "metadata": {},
   "outputs": [],
   "source": [
    "fig6, plt6 = plt.subplots(figsize=(50, 20))\n",
    "n, bins, patches = plt.hist(small_population_times, bins=4, color='#0504aa',\n",
    "                            alpha=0.7, rwidth=0.85)\n",
    "plt6.grid(axis='y', alpha=0.75)\n",
    "plt6.xlabel('Time')\n",
    "plt6.ylabel('Frequency')\n",
    "plt6.title('vACC spiking')\n",
    "plt6.text(23, 45, r'$\\mu=15, b=3$')\n",
    "maxfreq = n.max()\n",
    "# Set a clean upper y-axis limit.\n",
    "plt6.ylim(ymax=np.ceil(maxfreq / 10) * 10 if maxfreq % 10 else maxfreq + 10)\n",
    "\n",
    "plt6.vlines(4.5,0,50,linestyle = 'dashed')\n",
    "plt6.vlines(5.0,0,50,linestyle = 'dashed')\n",
    "plt6.vlines(5.5,0,50,linestyle = 'dashed')"
   ]
  },
  {
   "cell_type": "code",
   "execution_count": null,
   "metadata": {},
   "outputs": [],
   "source": [
    "n\n"
   ]
  },
  {
   "cell_type": "code",
   "execution_count": null,
   "metadata": {},
   "outputs": [],
   "source": [
    "n"
   ]
  },
  {
   "cell_type": "code",
   "execution_count": null,
   "metadata": {},
   "outputs": [],
   "source": []
  }
 ],
 "metadata": {
  "kernelspec": {
   "display_name": "depression_env",
   "language": "python",
   "name": "depression_env"
  },
  "language_info": {
   "codemirror_mode": {
    "name": "ipython",
    "version": 2
   },
   "file_extension": ".py",
   "mimetype": "text/x-python",
   "name": "python",
   "nbconvert_exporter": "python",
   "pygments_lexer": "ipython2",
   "version": "2.7.16"
  }
 },
 "nbformat": 4,
 "nbformat_minor": 2
}
